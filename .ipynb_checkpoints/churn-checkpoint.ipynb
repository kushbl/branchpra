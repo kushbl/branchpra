{
 "cells": [
  {
   "cell_type": "code",
   "execution_count": 1,
   "id": "99d8a97e",
   "metadata": {},
   "outputs": [],
   "source": [
    "import pandas as pd\n",
    "import numpy as np"
   ]
  },
  {
   "cell_type": "code",
   "execution_count": 2,
   "id": "19c50bc8",
   "metadata": {},
   "outputs": [],
   "source": [
    "df=pd.read_csv(r\"C:\\Users\\santo\\OneDrive\\Desktop\\Velocity\\CSV Files\\churn - churn.csv\")"
   ]
  },
  {
   "cell_type": "code",
   "execution_count": 3,
   "id": "b6b1f28a",
   "metadata": {},
   "outputs": [
    {
     "data": {
      "text/html": [
       "<div>\n",
       "<style scoped>\n",
       "    .dataframe tbody tr th:only-of-type {\n",
       "        vertical-align: middle;\n",
       "    }\n",
       "\n",
       "    .dataframe tbody tr th {\n",
       "        vertical-align: top;\n",
       "    }\n",
       "\n",
       "    .dataframe thead th {\n",
       "        text-align: right;\n",
       "    }\n",
       "</style>\n",
       "<table border=\"1\" class=\"dataframe\">\n",
       "  <thead>\n",
       "    <tr style=\"text-align: right;\">\n",
       "      <th></th>\n",
       "      <th>churn</th>\n",
       "      <th>accountlength</th>\n",
       "      <th>internationalplan</th>\n",
       "      <th>voicemailplan</th>\n",
       "      <th>numbervmailmessages</th>\n",
       "      <th>totaldayminutes</th>\n",
       "      <th>totaldaycalls</th>\n",
       "      <th>totaldaycharge</th>\n",
       "      <th>totaleveminutes</th>\n",
       "      <th>totalevecalls</th>\n",
       "      <th>totalevecharge</th>\n",
       "      <th>totalnightminutes</th>\n",
       "      <th>totalnightcalls</th>\n",
       "      <th>totalnightcharge</th>\n",
       "      <th>totalintlminutes</th>\n",
       "      <th>totalintlcalls</th>\n",
       "      <th>totalintlcharge</th>\n",
       "      <th>numbercustomerservicecalls</th>\n",
       "    </tr>\n",
       "  </thead>\n",
       "  <tbody>\n",
       "    <tr>\n",
       "      <th>1372</th>\n",
       "      <td>No</td>\n",
       "      <td>80</td>\n",
       "      <td>no</td>\n",
       "      <td>no</td>\n",
       "      <td>0</td>\n",
       "      <td>118.1</td>\n",
       "      <td>90</td>\n",
       "      <td>20.08</td>\n",
       "      <td>144.3</td>\n",
       "      <td>77</td>\n",
       "      <td>12.27</td>\n",
       "      <td>225.1</td>\n",
       "      <td>86</td>\n",
       "      <td>10.13</td>\n",
       "      <td>8.2</td>\n",
       "      <td>6</td>\n",
       "      <td>2.21</td>\n",
       "      <td>1</td>\n",
       "    </tr>\n",
       "    <tr>\n",
       "      <th>2506</th>\n",
       "      <td>No</td>\n",
       "      <td>138</td>\n",
       "      <td>no</td>\n",
       "      <td>no</td>\n",
       "      <td>0</td>\n",
       "      <td>230.1</td>\n",
       "      <td>107</td>\n",
       "      <td>39.12</td>\n",
       "      <td>212.0</td>\n",
       "      <td>120</td>\n",
       "      <td>18.02</td>\n",
       "      <td>174.9</td>\n",
       "      <td>119</td>\n",
       "      <td>7.87</td>\n",
       "      <td>13.2</td>\n",
       "      <td>4</td>\n",
       "      <td>3.56</td>\n",
       "      <td>1</td>\n",
       "    </tr>\n",
       "    <tr>\n",
       "      <th>2212</th>\n",
       "      <td>No</td>\n",
       "      <td>8</td>\n",
       "      <td>no</td>\n",
       "      <td>yes</td>\n",
       "      <td>36</td>\n",
       "      <td>242.9</td>\n",
       "      <td>67</td>\n",
       "      <td>41.29</td>\n",
       "      <td>170.9</td>\n",
       "      <td>59</td>\n",
       "      <td>14.53</td>\n",
       "      <td>177.3</td>\n",
       "      <td>130</td>\n",
       "      <td>7.98</td>\n",
       "      <td>4.8</td>\n",
       "      <td>12</td>\n",
       "      <td>1.30</td>\n",
       "      <td>1</td>\n",
       "    </tr>\n",
       "    <tr>\n",
       "      <th>4983</th>\n",
       "      <td>No</td>\n",
       "      <td>137</td>\n",
       "      <td>no</td>\n",
       "      <td>no</td>\n",
       "      <td>0</td>\n",
       "      <td>151.8</td>\n",
       "      <td>90</td>\n",
       "      <td>25.81</td>\n",
       "      <td>229.6</td>\n",
       "      <td>68</td>\n",
       "      <td>19.52</td>\n",
       "      <td>171.8</td>\n",
       "      <td>122</td>\n",
       "      <td>7.73</td>\n",
       "      <td>10.8</td>\n",
       "      <td>5</td>\n",
       "      <td>2.92</td>\n",
       "      <td>2</td>\n",
       "    </tr>\n",
       "    <tr>\n",
       "      <th>4923</th>\n",
       "      <td>No</td>\n",
       "      <td>97</td>\n",
       "      <td>no</td>\n",
       "      <td>yes</td>\n",
       "      <td>35</td>\n",
       "      <td>203.1</td>\n",
       "      <td>104</td>\n",
       "      <td>34.53</td>\n",
       "      <td>211.8</td>\n",
       "      <td>91</td>\n",
       "      <td>18.00</td>\n",
       "      <td>246.1</td>\n",
       "      <td>105</td>\n",
       "      <td>11.07</td>\n",
       "      <td>9.7</td>\n",
       "      <td>6</td>\n",
       "      <td>2.62</td>\n",
       "      <td>0</td>\n",
       "    </tr>\n",
       "  </tbody>\n",
       "</table>\n",
       "</div>"
      ],
      "text/plain": [
       "     churn  accountlength internationalplan voicemailplan  \\\n",
       "1372    No             80                no            no   \n",
       "2506    No            138                no            no   \n",
       "2212    No              8                no           yes   \n",
       "4983    No            137                no            no   \n",
       "4923    No             97                no           yes   \n",
       "\n",
       "      numbervmailmessages  totaldayminutes  totaldaycalls  totaldaycharge  \\\n",
       "1372                    0            118.1             90           20.08   \n",
       "2506                    0            230.1            107           39.12   \n",
       "2212                   36            242.9             67           41.29   \n",
       "4983                    0            151.8             90           25.81   \n",
       "4923                   35            203.1            104           34.53   \n",
       "\n",
       "      totaleveminutes  totalevecalls  totalevecharge  totalnightminutes  \\\n",
       "1372            144.3             77           12.27              225.1   \n",
       "2506            212.0            120           18.02              174.9   \n",
       "2212            170.9             59           14.53              177.3   \n",
       "4983            229.6             68           19.52              171.8   \n",
       "4923            211.8             91           18.00              246.1   \n",
       "\n",
       "      totalnightcalls  totalnightcharge  totalintlminutes  totalintlcalls  \\\n",
       "1372               86             10.13               8.2               6   \n",
       "2506              119              7.87              13.2               4   \n",
       "2212              130              7.98               4.8              12   \n",
       "4983              122              7.73              10.8               5   \n",
       "4923              105             11.07               9.7               6   \n",
       "\n",
       "      totalintlcharge  numbercustomerservicecalls  \n",
       "1372             2.21                           1  \n",
       "2506             3.56                           1  \n",
       "2212             1.30                           1  \n",
       "4983             2.92                           2  \n",
       "4923             2.62                           0  "
      ]
     },
     "execution_count": 3,
     "metadata": {},
     "output_type": "execute_result"
    }
   ],
   "source": [
    "df.sample(5)"
   ]
  },
  {
   "cell_type": "code",
   "execution_count": 4,
   "id": "d331b7f4",
   "metadata": {},
   "outputs": [],
   "source": [
    "df[\"churn\"]=df[\"churn\"].map({\"No\":0,\"Yes\":1})\n",
    "df[\"internationalplan\"]=df[\"internationalplan\"].map({\"no\":0,\"yes\":1})\n",
    "df[\"voicemailplan\"]=df[\"voicemailplan\"].map({\"no\":0,\"yes\":1})"
   ]
  },
  {
   "cell_type": "code",
   "execution_count": 5,
   "id": "4f11d6b3",
   "metadata": {},
   "outputs": [
    {
     "data": {
      "text/html": [
       "<div>\n",
       "<style scoped>\n",
       "    .dataframe tbody tr th:only-of-type {\n",
       "        vertical-align: middle;\n",
       "    }\n",
       "\n",
       "    .dataframe tbody tr th {\n",
       "        vertical-align: top;\n",
       "    }\n",
       "\n",
       "    .dataframe thead th {\n",
       "        text-align: right;\n",
       "    }\n",
       "</style>\n",
       "<table border=\"1\" class=\"dataframe\">\n",
       "  <thead>\n",
       "    <tr style=\"text-align: right;\">\n",
       "      <th></th>\n",
       "      <th>churn</th>\n",
       "      <th>accountlength</th>\n",
       "      <th>internationalplan</th>\n",
       "      <th>voicemailplan</th>\n",
       "      <th>numbervmailmessages</th>\n",
       "      <th>totaldayminutes</th>\n",
       "      <th>totaldaycalls</th>\n",
       "      <th>totaldaycharge</th>\n",
       "      <th>totaleveminutes</th>\n",
       "      <th>totalevecalls</th>\n",
       "      <th>totalevecharge</th>\n",
       "      <th>totalnightminutes</th>\n",
       "      <th>totalnightcalls</th>\n",
       "      <th>totalnightcharge</th>\n",
       "      <th>totalintlminutes</th>\n",
       "      <th>totalintlcalls</th>\n",
       "      <th>totalintlcharge</th>\n",
       "      <th>numbercustomerservicecalls</th>\n",
       "    </tr>\n",
       "  </thead>\n",
       "  <tbody>\n",
       "    <tr>\n",
       "      <th>290</th>\n",
       "      <td>0</td>\n",
       "      <td>199</td>\n",
       "      <td>0</td>\n",
       "      <td>1</td>\n",
       "      <td>34</td>\n",
       "      <td>230.6</td>\n",
       "      <td>121</td>\n",
       "      <td>39.20</td>\n",
       "      <td>219.4</td>\n",
       "      <td>99</td>\n",
       "      <td>18.65</td>\n",
       "      <td>299.3</td>\n",
       "      <td>94</td>\n",
       "      <td>13.47</td>\n",
       "      <td>8.0</td>\n",
       "      <td>2</td>\n",
       "      <td>2.16</td>\n",
       "      <td>0</td>\n",
       "    </tr>\n",
       "    <tr>\n",
       "      <th>4294</th>\n",
       "      <td>1</td>\n",
       "      <td>49</td>\n",
       "      <td>0</td>\n",
       "      <td>0</td>\n",
       "      <td>0</td>\n",
       "      <td>202.3</td>\n",
       "      <td>105</td>\n",
       "      <td>34.39</td>\n",
       "      <td>195.4</td>\n",
       "      <td>131</td>\n",
       "      <td>16.61</td>\n",
       "      <td>190.1</td>\n",
       "      <td>88</td>\n",
       "      <td>8.55</td>\n",
       "      <td>9.0</td>\n",
       "      <td>2</td>\n",
       "      <td>2.43</td>\n",
       "      <td>3</td>\n",
       "    </tr>\n",
       "    <tr>\n",
       "      <th>4623</th>\n",
       "      <td>0</td>\n",
       "      <td>74</td>\n",
       "      <td>0</td>\n",
       "      <td>0</td>\n",
       "      <td>0</td>\n",
       "      <td>207.1</td>\n",
       "      <td>79</td>\n",
       "      <td>35.21</td>\n",
       "      <td>182.0</td>\n",
       "      <td>100</td>\n",
       "      <td>15.47</td>\n",
       "      <td>233.7</td>\n",
       "      <td>73</td>\n",
       "      <td>10.52</td>\n",
       "      <td>7.4</td>\n",
       "      <td>8</td>\n",
       "      <td>2.00</td>\n",
       "      <td>1</td>\n",
       "    </tr>\n",
       "    <tr>\n",
       "      <th>4272</th>\n",
       "      <td>0</td>\n",
       "      <td>160</td>\n",
       "      <td>0</td>\n",
       "      <td>0</td>\n",
       "      <td>0</td>\n",
       "      <td>118.9</td>\n",
       "      <td>106</td>\n",
       "      <td>20.21</td>\n",
       "      <td>163.5</td>\n",
       "      <td>75</td>\n",
       "      <td>13.90</td>\n",
       "      <td>195.0</td>\n",
       "      <td>131</td>\n",
       "      <td>8.78</td>\n",
       "      <td>13.1</td>\n",
       "      <td>4</td>\n",
       "      <td>3.54</td>\n",
       "      <td>0</td>\n",
       "    </tr>\n",
       "    <tr>\n",
       "      <th>646</th>\n",
       "      <td>0</td>\n",
       "      <td>153</td>\n",
       "      <td>0</td>\n",
       "      <td>1</td>\n",
       "      <td>28</td>\n",
       "      <td>235.6</td>\n",
       "      <td>74</td>\n",
       "      <td>40.05</td>\n",
       "      <td>227.9</td>\n",
       "      <td>37</td>\n",
       "      <td>19.37</td>\n",
       "      <td>170.3</td>\n",
       "      <td>103</td>\n",
       "      <td>7.66</td>\n",
       "      <td>15.4</td>\n",
       "      <td>9</td>\n",
       "      <td>4.16</td>\n",
       "      <td>0</td>\n",
       "    </tr>\n",
       "  </tbody>\n",
       "</table>\n",
       "</div>"
      ],
      "text/plain": [
       "      churn  accountlength  internationalplan  voicemailplan  \\\n",
       "290       0            199                  0              1   \n",
       "4294      1             49                  0              0   \n",
       "4623      0             74                  0              0   \n",
       "4272      0            160                  0              0   \n",
       "646       0            153                  0              1   \n",
       "\n",
       "      numbervmailmessages  totaldayminutes  totaldaycalls  totaldaycharge  \\\n",
       "290                    34            230.6            121           39.20   \n",
       "4294                    0            202.3            105           34.39   \n",
       "4623                    0            207.1             79           35.21   \n",
       "4272                    0            118.9            106           20.21   \n",
       "646                    28            235.6             74           40.05   \n",
       "\n",
       "      totaleveminutes  totalevecalls  totalevecharge  totalnightminutes  \\\n",
       "290             219.4             99           18.65              299.3   \n",
       "4294            195.4            131           16.61              190.1   \n",
       "4623            182.0            100           15.47              233.7   \n",
       "4272            163.5             75           13.90              195.0   \n",
       "646             227.9             37           19.37              170.3   \n",
       "\n",
       "      totalnightcalls  totalnightcharge  totalintlminutes  totalintlcalls  \\\n",
       "290                94             13.47               8.0               2   \n",
       "4294               88              8.55               9.0               2   \n",
       "4623               73             10.52               7.4               8   \n",
       "4272              131              8.78              13.1               4   \n",
       "646               103              7.66              15.4               9   \n",
       "\n",
       "      totalintlcharge  numbercustomerservicecalls  \n",
       "290              2.16                           0  \n",
       "4294             2.43                           3  \n",
       "4623             2.00                           1  \n",
       "4272             3.54                           0  \n",
       "646              4.16                           0  "
      ]
     },
     "execution_count": 5,
     "metadata": {},
     "output_type": "execute_result"
    }
   ],
   "source": [
    "df.sample(5)"
   ]
  },
  {
   "cell_type": "markdown",
   "id": "625c71b4",
   "metadata": {},
   "source": [
    "# Exploratory data analysis"
   ]
  },
  {
   "cell_type": "code",
   "execution_count": 6,
   "id": "0164f1e6",
   "metadata": {},
   "outputs": [
    {
     "data": {
      "text/plain": [
       "(5000, 18)"
      ]
     },
     "execution_count": 6,
     "metadata": {},
     "output_type": "execute_result"
    }
   ],
   "source": [
    "df.shape"
   ]
  },
  {
   "cell_type": "code",
   "execution_count": 7,
   "id": "653f286e",
   "metadata": {},
   "outputs": [
    {
     "data": {
      "text/plain": [
       "Index(['churn', 'accountlength', 'internationalplan', 'voicemailplan',\n",
       "       'numbervmailmessages', 'totaldayminutes', 'totaldaycalls',\n",
       "       'totaldaycharge', 'totaleveminutes', 'totalevecalls', 'totalevecharge',\n",
       "       'totalnightminutes', 'totalnightcalls', 'totalnightcharge',\n",
       "       'totalintlminutes', 'totalintlcalls', 'totalintlcharge',\n",
       "       'numbercustomerservicecalls'],\n",
       "      dtype='object')"
      ]
     },
     "execution_count": 7,
     "metadata": {},
     "output_type": "execute_result"
    }
   ],
   "source": [
    "df.columns"
   ]
  },
  {
   "cell_type": "code",
   "execution_count": 8,
   "id": "ff6a6650",
   "metadata": {},
   "outputs": [
    {
     "name": "stdout",
     "output_type": "stream",
     "text": [
      "<class 'pandas.core.frame.DataFrame'>\n",
      "RangeIndex: 5000 entries, 0 to 4999\n",
      "Data columns (total 18 columns):\n",
      " #   Column                      Non-Null Count  Dtype  \n",
      "---  ------                      --------------  -----  \n",
      " 0   churn                       5000 non-null   int64  \n",
      " 1   accountlength               5000 non-null   int64  \n",
      " 2   internationalplan           5000 non-null   int64  \n",
      " 3   voicemailplan               5000 non-null   int64  \n",
      " 4   numbervmailmessages         5000 non-null   int64  \n",
      " 5   totaldayminutes             5000 non-null   float64\n",
      " 6   totaldaycalls               5000 non-null   int64  \n",
      " 7   totaldaycharge              5000 non-null   float64\n",
      " 8   totaleveminutes             5000 non-null   float64\n",
      " 9   totalevecalls               5000 non-null   int64  \n",
      " 10  totalevecharge              5000 non-null   float64\n",
      " 11  totalnightminutes           5000 non-null   float64\n",
      " 12  totalnightcalls             5000 non-null   int64  \n",
      " 13  totalnightcharge            5000 non-null   float64\n",
      " 14  totalintlminutes            5000 non-null   float64\n",
      " 15  totalintlcalls              5000 non-null   int64  \n",
      " 16  totalintlcharge             5000 non-null   float64\n",
      " 17  numbercustomerservicecalls  5000 non-null   int64  \n",
      "dtypes: float64(8), int64(10)\n",
      "memory usage: 703.2 KB\n"
     ]
    }
   ],
   "source": [
    "df.info()"
   ]
  },
  {
   "cell_type": "code",
   "execution_count": 9,
   "id": "299384ee",
   "metadata": {},
   "outputs": [
    {
     "data": {
      "text/plain": [
       "churn                         0\n",
       "accountlength                 0\n",
       "internationalplan             0\n",
       "voicemailplan                 0\n",
       "numbervmailmessages           0\n",
       "totaldayminutes               0\n",
       "totaldaycalls                 0\n",
       "totaldaycharge                0\n",
       "totaleveminutes               0\n",
       "totalevecalls                 0\n",
       "totalevecharge                0\n",
       "totalnightminutes             0\n",
       "totalnightcalls               0\n",
       "totalnightcharge              0\n",
       "totalintlminutes              0\n",
       "totalintlcalls                0\n",
       "totalintlcharge               0\n",
       "numbercustomerservicecalls    0\n",
       "dtype: int64"
      ]
     },
     "execution_count": 9,
     "metadata": {},
     "output_type": "execute_result"
    }
   ],
   "source": [
    "df.isnull().sum()"
   ]
  },
  {
   "cell_type": "code",
   "execution_count": 10,
   "id": "558ee4b8",
   "metadata": {},
   "outputs": [
    {
     "data": {
      "text/plain": [
       "0"
      ]
     },
     "execution_count": 10,
     "metadata": {},
     "output_type": "execute_result"
    }
   ],
   "source": [
    "df.duplicated().sum()"
   ]
  },
  {
   "cell_type": "code",
   "execution_count": 11,
   "id": "7f9b3e2f",
   "metadata": {},
   "outputs": [
    {
     "data": {
      "text/html": [
       "<div>\n",
       "<style scoped>\n",
       "    .dataframe tbody tr th:only-of-type {\n",
       "        vertical-align: middle;\n",
       "    }\n",
       "\n",
       "    .dataframe tbody tr th {\n",
       "        vertical-align: top;\n",
       "    }\n",
       "\n",
       "    .dataframe thead th {\n",
       "        text-align: right;\n",
       "    }\n",
       "</style>\n",
       "<table border=\"1\" class=\"dataframe\">\n",
       "  <thead>\n",
       "    <tr style=\"text-align: right;\">\n",
       "      <th></th>\n",
       "      <th>churn</th>\n",
       "      <th>accountlength</th>\n",
       "      <th>internationalplan</th>\n",
       "      <th>voicemailplan</th>\n",
       "      <th>numbervmailmessages</th>\n",
       "      <th>totaldayminutes</th>\n",
       "      <th>totaldaycalls</th>\n",
       "      <th>totaldaycharge</th>\n",
       "      <th>totaleveminutes</th>\n",
       "      <th>totalevecalls</th>\n",
       "      <th>totalevecharge</th>\n",
       "      <th>totalnightminutes</th>\n",
       "      <th>totalnightcalls</th>\n",
       "      <th>totalnightcharge</th>\n",
       "      <th>totalintlminutes</th>\n",
       "      <th>totalintlcalls</th>\n",
       "      <th>totalintlcharge</th>\n",
       "      <th>numbercustomerservicecalls</th>\n",
       "    </tr>\n",
       "  </thead>\n",
       "  <tbody>\n",
       "    <tr>\n",
       "      <th>count</th>\n",
       "      <td>5000.000000</td>\n",
       "      <td>5000.00000</td>\n",
       "      <td>5000.000000</td>\n",
       "      <td>5000.000000</td>\n",
       "      <td>5000.000000</td>\n",
       "      <td>5000.000000</td>\n",
       "      <td>5000.000000</td>\n",
       "      <td>5000.000000</td>\n",
       "      <td>5000.000000</td>\n",
       "      <td>5000.000000</td>\n",
       "      <td>5000.000000</td>\n",
       "      <td>5000.000000</td>\n",
       "      <td>5000.000000</td>\n",
       "      <td>5000.000000</td>\n",
       "      <td>5000.000000</td>\n",
       "      <td>5000.000000</td>\n",
       "      <td>5000.000000</td>\n",
       "      <td>5000.000000</td>\n",
       "    </tr>\n",
       "    <tr>\n",
       "      <th>mean</th>\n",
       "      <td>0.141400</td>\n",
       "      <td>100.25860</td>\n",
       "      <td>0.094600</td>\n",
       "      <td>0.264600</td>\n",
       "      <td>7.755200</td>\n",
       "      <td>180.288900</td>\n",
       "      <td>100.029400</td>\n",
       "      <td>30.649668</td>\n",
       "      <td>200.636560</td>\n",
       "      <td>100.191000</td>\n",
       "      <td>17.054322</td>\n",
       "      <td>200.391620</td>\n",
       "      <td>99.919200</td>\n",
       "      <td>9.017732</td>\n",
       "      <td>10.261780</td>\n",
       "      <td>4.435200</td>\n",
       "      <td>2.771196</td>\n",
       "      <td>1.570400</td>\n",
       "    </tr>\n",
       "    <tr>\n",
       "      <th>std</th>\n",
       "      <td>0.348469</td>\n",
       "      <td>39.69456</td>\n",
       "      <td>0.292691</td>\n",
       "      <td>0.441164</td>\n",
       "      <td>13.546393</td>\n",
       "      <td>53.894699</td>\n",
       "      <td>19.831197</td>\n",
       "      <td>9.162069</td>\n",
       "      <td>50.551309</td>\n",
       "      <td>19.826496</td>\n",
       "      <td>4.296843</td>\n",
       "      <td>50.527789</td>\n",
       "      <td>19.958686</td>\n",
       "      <td>2.273763</td>\n",
       "      <td>2.761396</td>\n",
       "      <td>2.456788</td>\n",
       "      <td>0.745514</td>\n",
       "      <td>1.306363</td>\n",
       "    </tr>\n",
       "    <tr>\n",
       "      <th>min</th>\n",
       "      <td>0.000000</td>\n",
       "      <td>1.00000</td>\n",
       "      <td>0.000000</td>\n",
       "      <td>0.000000</td>\n",
       "      <td>0.000000</td>\n",
       "      <td>0.000000</td>\n",
       "      <td>0.000000</td>\n",
       "      <td>0.000000</td>\n",
       "      <td>0.000000</td>\n",
       "      <td>0.000000</td>\n",
       "      <td>0.000000</td>\n",
       "      <td>0.000000</td>\n",
       "      <td>0.000000</td>\n",
       "      <td>0.000000</td>\n",
       "      <td>0.000000</td>\n",
       "      <td>0.000000</td>\n",
       "      <td>0.000000</td>\n",
       "      <td>0.000000</td>\n",
       "    </tr>\n",
       "    <tr>\n",
       "      <th>25%</th>\n",
       "      <td>0.000000</td>\n",
       "      <td>73.00000</td>\n",
       "      <td>0.000000</td>\n",
       "      <td>0.000000</td>\n",
       "      <td>0.000000</td>\n",
       "      <td>143.700000</td>\n",
       "      <td>87.000000</td>\n",
       "      <td>24.430000</td>\n",
       "      <td>166.375000</td>\n",
       "      <td>87.000000</td>\n",
       "      <td>14.140000</td>\n",
       "      <td>166.900000</td>\n",
       "      <td>87.000000</td>\n",
       "      <td>7.510000</td>\n",
       "      <td>8.500000</td>\n",
       "      <td>3.000000</td>\n",
       "      <td>2.300000</td>\n",
       "      <td>1.000000</td>\n",
       "    </tr>\n",
       "    <tr>\n",
       "      <th>50%</th>\n",
       "      <td>0.000000</td>\n",
       "      <td>100.00000</td>\n",
       "      <td>0.000000</td>\n",
       "      <td>0.000000</td>\n",
       "      <td>0.000000</td>\n",
       "      <td>180.100000</td>\n",
       "      <td>100.000000</td>\n",
       "      <td>30.620000</td>\n",
       "      <td>201.000000</td>\n",
       "      <td>100.000000</td>\n",
       "      <td>17.090000</td>\n",
       "      <td>200.400000</td>\n",
       "      <td>100.000000</td>\n",
       "      <td>9.020000</td>\n",
       "      <td>10.300000</td>\n",
       "      <td>4.000000</td>\n",
       "      <td>2.780000</td>\n",
       "      <td>1.000000</td>\n",
       "    </tr>\n",
       "    <tr>\n",
       "      <th>75%</th>\n",
       "      <td>0.000000</td>\n",
       "      <td>127.00000</td>\n",
       "      <td>0.000000</td>\n",
       "      <td>1.000000</td>\n",
       "      <td>17.000000</td>\n",
       "      <td>216.200000</td>\n",
       "      <td>113.000000</td>\n",
       "      <td>36.750000</td>\n",
       "      <td>234.100000</td>\n",
       "      <td>114.000000</td>\n",
       "      <td>19.900000</td>\n",
       "      <td>234.700000</td>\n",
       "      <td>113.000000</td>\n",
       "      <td>10.560000</td>\n",
       "      <td>12.000000</td>\n",
       "      <td>6.000000</td>\n",
       "      <td>3.240000</td>\n",
       "      <td>2.000000</td>\n",
       "    </tr>\n",
       "    <tr>\n",
       "      <th>max</th>\n",
       "      <td>1.000000</td>\n",
       "      <td>243.00000</td>\n",
       "      <td>1.000000</td>\n",
       "      <td>1.000000</td>\n",
       "      <td>52.000000</td>\n",
       "      <td>351.500000</td>\n",
       "      <td>165.000000</td>\n",
       "      <td>59.760000</td>\n",
       "      <td>363.700000</td>\n",
       "      <td>170.000000</td>\n",
       "      <td>30.910000</td>\n",
       "      <td>395.000000</td>\n",
       "      <td>175.000000</td>\n",
       "      <td>17.770000</td>\n",
       "      <td>20.000000</td>\n",
       "      <td>20.000000</td>\n",
       "      <td>5.400000</td>\n",
       "      <td>9.000000</td>\n",
       "    </tr>\n",
       "  </tbody>\n",
       "</table>\n",
       "</div>"
      ],
      "text/plain": [
       "             churn  accountlength  internationalplan  voicemailplan  \\\n",
       "count  5000.000000     5000.00000        5000.000000    5000.000000   \n",
       "mean      0.141400      100.25860           0.094600       0.264600   \n",
       "std       0.348469       39.69456           0.292691       0.441164   \n",
       "min       0.000000        1.00000           0.000000       0.000000   \n",
       "25%       0.000000       73.00000           0.000000       0.000000   \n",
       "50%       0.000000      100.00000           0.000000       0.000000   \n",
       "75%       0.000000      127.00000           0.000000       1.000000   \n",
       "max       1.000000      243.00000           1.000000       1.000000   \n",
       "\n",
       "       numbervmailmessages  totaldayminutes  totaldaycalls  totaldaycharge  \\\n",
       "count          5000.000000      5000.000000    5000.000000     5000.000000   \n",
       "mean              7.755200       180.288900     100.029400       30.649668   \n",
       "std              13.546393        53.894699      19.831197        9.162069   \n",
       "min               0.000000         0.000000       0.000000        0.000000   \n",
       "25%               0.000000       143.700000      87.000000       24.430000   \n",
       "50%               0.000000       180.100000     100.000000       30.620000   \n",
       "75%              17.000000       216.200000     113.000000       36.750000   \n",
       "max              52.000000       351.500000     165.000000       59.760000   \n",
       "\n",
       "       totaleveminutes  totalevecalls  totalevecharge  totalnightminutes  \\\n",
       "count      5000.000000    5000.000000     5000.000000        5000.000000   \n",
       "mean        200.636560     100.191000       17.054322         200.391620   \n",
       "std          50.551309      19.826496        4.296843          50.527789   \n",
       "min           0.000000       0.000000        0.000000           0.000000   \n",
       "25%         166.375000      87.000000       14.140000         166.900000   \n",
       "50%         201.000000     100.000000       17.090000         200.400000   \n",
       "75%         234.100000     114.000000       19.900000         234.700000   \n",
       "max         363.700000     170.000000       30.910000         395.000000   \n",
       "\n",
       "       totalnightcalls  totalnightcharge  totalintlminutes  totalintlcalls  \\\n",
       "count      5000.000000       5000.000000       5000.000000     5000.000000   \n",
       "mean         99.919200          9.017732         10.261780        4.435200   \n",
       "std          19.958686          2.273763          2.761396        2.456788   \n",
       "min           0.000000          0.000000          0.000000        0.000000   \n",
       "25%          87.000000          7.510000          8.500000        3.000000   \n",
       "50%         100.000000          9.020000         10.300000        4.000000   \n",
       "75%         113.000000         10.560000         12.000000        6.000000   \n",
       "max         175.000000         17.770000         20.000000       20.000000   \n",
       "\n",
       "       totalintlcharge  numbercustomerservicecalls  \n",
       "count      5000.000000                 5000.000000  \n",
       "mean          2.771196                    1.570400  \n",
       "std           0.745514                    1.306363  \n",
       "min           0.000000                    0.000000  \n",
       "25%           2.300000                    1.000000  \n",
       "50%           2.780000                    1.000000  \n",
       "75%           3.240000                    2.000000  \n",
       "max           5.400000                    9.000000  "
      ]
     },
     "execution_count": 11,
     "metadata": {},
     "output_type": "execute_result"
    }
   ],
   "source": [
    "df.describe()"
   ]
  },
  {
   "cell_type": "code",
   "execution_count": 12,
   "id": "62410bfd",
   "metadata": {},
   "outputs": [
    {
     "data": {
      "text/plain": [
       "0    4293\n",
       "1     707\n",
       "Name: churn, dtype: int64"
      ]
     },
     "execution_count": 12,
     "metadata": {},
     "output_type": "execute_result"
    }
   ],
   "source": [
    "df[\"churn\"].value_counts()"
   ]
  },
  {
   "cell_type": "code",
   "execution_count": 13,
   "id": "fd01c3e9",
   "metadata": {},
   "outputs": [
    {
     "name": "stderr",
     "output_type": "stream",
     "text": [
      "C:\\Users\\santo\\AppData\\Local\\Temp\\ipykernel_2332\\1332261464.py:1: DeprecationWarning: `import pandas_profiling` is going to be deprecated by April 1st. Please use `import ydata_profiling` instead.\n",
      "  from pandas_profiling import ProfileReport\n"
     ]
    },
    {
     "data": {
      "application/vnd.jupyter.widget-view+json": {
       "model_id": "cf4ac48555c74cbf8c58efe67f3515cc",
       "version_major": 2,
       "version_minor": 0
      },
      "text/plain": [
       "Summarize dataset:   0%|          | 0/5 [00:00<?, ?it/s]"
      ]
     },
     "metadata": {},
     "output_type": "display_data"
    },
    {
     "data": {
      "application/vnd.jupyter.widget-view+json": {
       "model_id": "818900ef68ca4df3a548d7e97c7d96c5",
       "version_major": 2,
       "version_minor": 0
      },
      "text/plain": [
       "Generate report structure:   0%|          | 0/1 [00:00<?, ?it/s]"
      ]
     },
     "metadata": {},
     "output_type": "display_data"
    },
    {
     "data": {
      "application/vnd.jupyter.widget-view+json": {
       "model_id": "5117c032a553493b925f40b1245eeea7",
       "version_major": 2,
       "version_minor": 0
      },
      "text/plain": [
       "Render HTML:   0%|          | 0/1 [00:00<?, ?it/s]"
      ]
     },
     "metadata": {},
     "output_type": "display_data"
    },
    {
     "data": {
      "application/vnd.jupyter.widget-view+json": {
       "model_id": "1241c12b6aae4c73a9cc462b32470f00",
       "version_major": 2,
       "version_minor": 0
      },
      "text/plain": [
       "Export report to file:   0%|          | 0/1 [00:00<?, ?it/s]"
      ]
     },
     "metadata": {},
     "output_type": "display_data"
    }
   ],
   "source": [
    "from pandas_profiling import ProfileReport\n",
    "prof=ProfileReport(df)\n",
    "prof.to_file(output_file=\"Output.html\")"
   ]
  },
  {
   "cell_type": "markdown",
   "id": "c892a754",
   "metadata": {},
   "source": [
    "#### seperate the features and target"
   ]
  },
  {
   "cell_type": "code",
   "execution_count": 14,
   "id": "92540a32",
   "metadata": {},
   "outputs": [],
   "source": [
    "x=df.iloc[:,1:]\n",
    "y=df.iloc[:,0]"
   ]
  },
  {
   "cell_type": "markdown",
   "id": "76a3ddc9",
   "metadata": {},
   "source": [
    "#### detecting outlier"
   ]
  },
  {
   "cell_type": "code",
   "execution_count": 15,
   "id": "d0c48f60",
   "metadata": {},
   "outputs": [],
   "source": [
    "%matplotlib inline"
   ]
  },
  {
   "cell_type": "code",
   "execution_count": 16,
   "id": "667d9027",
   "metadata": {},
   "outputs": [
    {
     "name": "stdout",
     "output_type": "stream",
     "text": [
      "detecting outlier for accountlength column\n"
     ]
    },
    {
     "data": {
      "image/png": "[encoded data removed]",
      "text/plain": [
       "<Figure size 640x480 with 1 Axes>"
      ]
     },
     "metadata": {},
     "output_type": "display_data"
    },
    {
     "name": "stdout",
     "output_type": "stream",
     "text": [
      "detecting outlier for internationalplan column\n"
     ]
    },
    {
     "data": {
      "image/png": "[encoded data removed]",
      "text/plain": [
       "<Figure size 640x480 with 1 Axes>"
      ]
     },
     "metadata": {},
     "output_type": "display_data"
    },
    {
     "name": "stdout",
     "output_type": "stream",
     "text": [
      "detecting outlier for voicemailplan column\n"
     ]
    },
    {
     "data": {
      "image/png": "[encoded data removed]",
      "text/plain": [
       "<Figure size 640x480 with 1 Axes>"
      ]
     },
     "metadata": {},
     "output_type": "display_data"
    },
    {
     "name": "stdout",
     "output_type": "stream",
     "text": [
      "detecting outlier for numbervmailmessages column\n"
     ]
    },
    {
     "data": {
      "image/png": "[encoded data removed]",
      "text/plain": [
       "<Figure size 640x480 with 1 Axes>"
      ]
     },
     "metadata": {},
     "output_type": "display_data"
    },
    {
     "name": "stdout",
     "output_type": "stream",
     "text": [
      "detecting outlier for totaldayminutes column\n"
     ]
    },
    {
     "data": {
      "image/png": "[encoded data removed]",
      "text/plain": [
       "<Figure size 640x480 with 1 Axes>"
      ]
     },
     "metadata": {},
     "output_type": "display_data"
    },
    {
     "name": "stdout",
     "output_type": "stream",
     "text": [
      "detecting outlier for totaldaycalls column\n"
     ]
    },
    {
     "data": {
      "image/png": "[encoded data removed]",
      "text/plain": [
       "<Figure size 640x480 with 1 Axes>"
      ]
     },
     "metadata": {},
     "output_type": "display_data"
    },
    {
     "name": "stdout",
     "output_type": "stream",
     "text": [
      "detecting outlier for totaldaycharge column\n"
     ]
    },
    {
     "data": {
      "image/png": "[encoded data removed]",
      "text/plain": [
       "<Figure size 640x480 with 1 Axes>"
      ]
     },
     "metadata": {},
     "output_type": "display_data"
    },
    {
     "name": "stdout",
     "output_type": "stream",
     "text": [
      "detecting outlier for totaleveminutes column\n"
     ]
    },
    {
     "data": {
      "image/png": "[encoded data removed]",
      "text/plain": [
       "<Figure size 640x480 with 1 Axes>"
      ]
     },
     "metadata": {},
     "output_type": "display_data"
    },
    {
     "name": "stdout",
     "output_type": "stream",
     "text": [
      "detecting outlier for totalevecalls column\n"
     ]
    },
    {
     "data": {
      "image/png": "[encoded data removed]",
      "text/plain": [
       "<Figure size 640x480 with 1 Axes>"
      ]
     },
     "metadata": {},
     "output_type": "display_data"
    },
    {
     "name": "stdout",
     "output_type": "stream",
     "text": [
      "detecting outlier for totalevecharge column\n"
     ]
    },
    {
     "data": {
      "image/png": "[encoded data removed]",
      "text/plain": [
       "<Figure size 640x480 with 1 Axes>"
      ]
     },
     "metadata": {},
     "output_type": "display_data"
    },
    {
     "name": "stdout",
     "output_type": "stream",
     "text": [
      "detecting outlier for totalnightminutes column\n"
     ]
    },
    {
     "data": {
      "image/png": "[encoded data removed]",
      "text/plain": [
       "<Figure size 640x480 with 1 Axes>"
      ]
     },
     "metadata": {},
     "output_type": "display_data"
    },
    {
     "name": "stdout",
     "output_type": "stream",
     "text": [
      "detecting outlier for totalnightcalls column\n"
     ]
    },
    {
     "data": {
      "image/png": "[encoded data removed]",
      "text/plain": [
       "<Figure size 640x480 with 1 Axes>"
      ]
     },
     "metadata": {},
     "output_type": "display_data"
    },
    {
     "name": "stdout",
     "output_type": "stream",
     "text": [
      "detecting outlier for totalnightcharge column\n"
     ]
    },
    {
     "data": {
      "image/png": "[encoded data removed]",
      "text/plain": [
       "<Figure size 640x480 with 1 Axes>"
      ]
     },
     "metadata": {},
     "output_type": "display_data"
    },
    {
     "name": "stdout",
     "output_type": "stream",
     "text": [
      "detecting outlier for totalintlminutes column\n"
     ]
    },
    {
     "data": {
      "image/png": "[encoded data removed]",
      "text/plain": [
       "<Figure size 640x480 with 1 Axes>"
      ]
     },
     "metadata": {},
     "output_type": "display_data"
    },
    {
     "name": "stdout",
     "output_type": "stream",
     "text": [
      "detecting outlier for totalintlcalls column\n"
     ]
    },
    {
     "data": {
      "image/png": "[encoded data removed]",
      "text/plain": [
       "<Figure size 640x480 with 1 Axes>"
      ]
     },
     "metadata": {},
     "output_type": "display_data"
    },
    {
     "name": "stdout",
     "output_type": "stream",
     "text": [
      "detecting outlier for totalintlcharge column\n"
     ]
    },
    {
     "data": {
      "image/png": "[encoded data removed]",
      "text/plain": [
       "<Figure size 640x480 with 1 Axes>"
      ]
     },
     "metadata": {},
     "output_type": "display_data"
    },
    {
     "name": "stdout",
     "output_type": "stream",
     "text": [
      "detecting outlier for numbercustomerservicecalls column\n"
     ]
    },
    {
     "data": {
      "image/png": "[encoded data removed]",
      "text/plain": [
       "<Figure size 640x480 with 1 Axes>"
      ]
     },
     "metadata": {},
     "output_type": "display_data"
    }
   ],
   "source": [
    "import matplotlib.pyplot as plt\n",
    "for i in x.columns:\n",
    "    print(\"detecting outlier for {} column\".format(i))\n",
    "    plt.boxplot(df[i],vert=False)\n",
    "    plt.title(\"Detecting the outlier using box plot\")\n",
    "    plt.xlabel(\"sample df data\")\n",
    "    plt.show()"
   ]
  },
  {
   "cell_type": "code",
   "execution_count": null,
   "id": "2a47a157",
   "metadata": {},
   "outputs": [],
   "source": []
  },
  {
   "cell_type": "markdown",
   "id": "8f8481c0",
   "metadata": {},
   "source": [
    "#### Outlier handle"
   ]
  },
  {
   "cell_type": "code",
   "execution_count": 17,
   "id": "d2abe506",
   "metadata": {},
   "outputs": [],
   "source": [
    "#trimming\n",
    "#for i in x.columns:\n",
    "   # lower_bound=df[i].mean()- 3*(df[i].std())\n",
    "   # Upper_bound=df[i].mean()+ 3*(df[i].std())\n",
    "   # df[(df[i]>Upper_bound) | (df[i]<lower_bound)]\n",
    "   #new_df=df[(df[i]<Upper_bound) & (df[i]>lower_bound)]\n",
    "#new_df"
   ]
  },
  {
   "cell_type": "code",
   "execution_count": 18,
   "id": "b56a90b5",
   "metadata": {
    "scrolled": true
   },
   "outputs": [
    {
     "data": {
      "text/html": [
       "<div>\n",
       "<style scoped>\n",
       "    .dataframe tbody tr th:only-of-type {\n",
       "        vertical-align: middle;\n",
       "    }\n",
       "\n",
       "    .dataframe tbody tr th {\n",
       "        vertical-align: top;\n",
       "    }\n",
       "\n",
       "    .dataframe thead th {\n",
       "        text-align: right;\n",
       "    }\n",
       "</style>\n",
       "<table border=\"1\" class=\"dataframe\">\n",
       "  <thead>\n",
       "    <tr style=\"text-align: right;\">\n",
       "      <th></th>\n",
       "      <th>churn</th>\n",
       "      <th>accountlength</th>\n",
       "      <th>internationalplan</th>\n",
       "      <th>voicemailplan</th>\n",
       "      <th>numbervmailmessages</th>\n",
       "      <th>totaldayminutes</th>\n",
       "      <th>totaldaycalls</th>\n",
       "      <th>totaldaycharge</th>\n",
       "      <th>totaleveminutes</th>\n",
       "      <th>totalevecalls</th>\n",
       "      <th>totalevecharge</th>\n",
       "      <th>totalnightminutes</th>\n",
       "      <th>totalnightcalls</th>\n",
       "      <th>totalnightcharge</th>\n",
       "      <th>totalintlminutes</th>\n",
       "      <th>totalintlcalls</th>\n",
       "      <th>totalintlcharge</th>\n",
       "      <th>numbercustomerservicecalls</th>\n",
       "    </tr>\n",
       "  </thead>\n",
       "  <tbody>\n",
       "    <tr>\n",
       "      <th>0</th>\n",
       "      <td>0</td>\n",
       "      <td>128.0</td>\n",
       "      <td>0.0</td>\n",
       "      <td>1.0</td>\n",
       "      <td>25.0</td>\n",
       "      <td>265.1</td>\n",
       "      <td>110.0</td>\n",
       "      <td>45.07</td>\n",
       "      <td>197.4000</td>\n",
       "      <td>99.0</td>\n",
       "      <td>16.78</td>\n",
       "      <td>244.7</td>\n",
       "      <td>91.0</td>\n",
       "      <td>11.01</td>\n",
       "      <td>10.0</td>\n",
       "      <td>3.0</td>\n",
       "      <td>2.70</td>\n",
       "      <td>1.0</td>\n",
       "    </tr>\n",
       "    <tr>\n",
       "      <th>1</th>\n",
       "      <td>0</td>\n",
       "      <td>107.0</td>\n",
       "      <td>0.0</td>\n",
       "      <td>1.0</td>\n",
       "      <td>26.0</td>\n",
       "      <td>161.6</td>\n",
       "      <td>123.0</td>\n",
       "      <td>27.47</td>\n",
       "      <td>195.5000</td>\n",
       "      <td>103.0</td>\n",
       "      <td>16.62</td>\n",
       "      <td>254.4</td>\n",
       "      <td>103.0</td>\n",
       "      <td>11.45</td>\n",
       "      <td>13.7</td>\n",
       "      <td>3.0</td>\n",
       "      <td>3.70</td>\n",
       "      <td>1.0</td>\n",
       "    </tr>\n",
       "    <tr>\n",
       "      <th>2</th>\n",
       "      <td>0</td>\n",
       "      <td>137.0</td>\n",
       "      <td>0.0</td>\n",
       "      <td>0.0</td>\n",
       "      <td>0.0</td>\n",
       "      <td>243.4</td>\n",
       "      <td>114.0</td>\n",
       "      <td>41.38</td>\n",
       "      <td>121.2000</td>\n",
       "      <td>110.0</td>\n",
       "      <td>10.30</td>\n",
       "      <td>162.6</td>\n",
       "      <td>104.0</td>\n",
       "      <td>7.32</td>\n",
       "      <td>12.2</td>\n",
       "      <td>5.0</td>\n",
       "      <td>3.29</td>\n",
       "      <td>0.0</td>\n",
       "    </tr>\n",
       "    <tr>\n",
       "      <th>3</th>\n",
       "      <td>0</td>\n",
       "      <td>84.0</td>\n",
       "      <td>0.0</td>\n",
       "      <td>0.0</td>\n",
       "      <td>0.0</td>\n",
       "      <td>299.4</td>\n",
       "      <td>71.0</td>\n",
       "      <td>50.90</td>\n",
       "      <td>64.7875</td>\n",
       "      <td>88.0</td>\n",
       "      <td>5.50</td>\n",
       "      <td>196.9</td>\n",
       "      <td>89.0</td>\n",
       "      <td>8.86</td>\n",
       "      <td>6.6</td>\n",
       "      <td>7.0</td>\n",
       "      <td>1.78</td>\n",
       "      <td>2.0</td>\n",
       "    </tr>\n",
       "    <tr>\n",
       "      <th>4</th>\n",
       "      <td>0</td>\n",
       "      <td>75.0</td>\n",
       "      <td>0.0</td>\n",
       "      <td>0.0</td>\n",
       "      <td>0.0</td>\n",
       "      <td>166.7</td>\n",
       "      <td>113.0</td>\n",
       "      <td>28.34</td>\n",
       "      <td>148.3000</td>\n",
       "      <td>122.0</td>\n",
       "      <td>12.61</td>\n",
       "      <td>186.9</td>\n",
       "      <td>121.0</td>\n",
       "      <td>8.41</td>\n",
       "      <td>10.1</td>\n",
       "      <td>3.0</td>\n",
       "      <td>2.73</td>\n",
       "      <td>3.0</td>\n",
       "    </tr>\n",
       "    <tr>\n",
       "      <th>...</th>\n",
       "      <td>...</td>\n",
       "      <td>...</td>\n",
       "      <td>...</td>\n",
       "      <td>...</td>\n",
       "      <td>...</td>\n",
       "      <td>...</td>\n",
       "      <td>...</td>\n",
       "      <td>...</td>\n",
       "      <td>...</td>\n",
       "      <td>...</td>\n",
       "      <td>...</td>\n",
       "      <td>...</td>\n",
       "      <td>...</td>\n",
       "      <td>...</td>\n",
       "      <td>...</td>\n",
       "      <td>...</td>\n",
       "      <td>...</td>\n",
       "      <td>...</td>\n",
       "    </tr>\n",
       "    <tr>\n",
       "      <th>4995</th>\n",
       "      <td>0</td>\n",
       "      <td>50.0</td>\n",
       "      <td>0.0</td>\n",
       "      <td>1.0</td>\n",
       "      <td>40.0</td>\n",
       "      <td>235.7</td>\n",
       "      <td>127.0</td>\n",
       "      <td>40.07</td>\n",
       "      <td>223.0000</td>\n",
       "      <td>126.0</td>\n",
       "      <td>18.96</td>\n",
       "      <td>297.5</td>\n",
       "      <td>116.0</td>\n",
       "      <td>13.39</td>\n",
       "      <td>9.9</td>\n",
       "      <td>5.0</td>\n",
       "      <td>2.67</td>\n",
       "      <td>2.0</td>\n",
       "    </tr>\n",
       "    <tr>\n",
       "      <th>4996</th>\n",
       "      <td>1</td>\n",
       "      <td>152.0</td>\n",
       "      <td>0.0</td>\n",
       "      <td>0.0</td>\n",
       "      <td>0.0</td>\n",
       "      <td>184.2</td>\n",
       "      <td>90.0</td>\n",
       "      <td>31.31</td>\n",
       "      <td>256.8000</td>\n",
       "      <td>73.0</td>\n",
       "      <td>21.83</td>\n",
       "      <td>213.6</td>\n",
       "      <td>113.0</td>\n",
       "      <td>9.61</td>\n",
       "      <td>14.7</td>\n",
       "      <td>2.0</td>\n",
       "      <td>3.97</td>\n",
       "      <td>3.0</td>\n",
       "    </tr>\n",
       "    <tr>\n",
       "      <th>4997</th>\n",
       "      <td>0</td>\n",
       "      <td>61.0</td>\n",
       "      <td>0.0</td>\n",
       "      <td>0.0</td>\n",
       "      <td>0.0</td>\n",
       "      <td>140.6</td>\n",
       "      <td>89.0</td>\n",
       "      <td>23.90</td>\n",
       "      <td>172.8000</td>\n",
       "      <td>128.0</td>\n",
       "      <td>14.69</td>\n",
       "      <td>212.4</td>\n",
       "      <td>97.0</td>\n",
       "      <td>9.56</td>\n",
       "      <td>13.6</td>\n",
       "      <td>4.0</td>\n",
       "      <td>3.67</td>\n",
       "      <td>1.0</td>\n",
       "    </tr>\n",
       "    <tr>\n",
       "      <th>4998</th>\n",
       "      <td>0</td>\n",
       "      <td>109.0</td>\n",
       "      <td>0.0</td>\n",
       "      <td>0.0</td>\n",
       "      <td>0.0</td>\n",
       "      <td>188.8</td>\n",
       "      <td>67.0</td>\n",
       "      <td>32.10</td>\n",
       "      <td>171.7000</td>\n",
       "      <td>92.0</td>\n",
       "      <td>14.59</td>\n",
       "      <td>224.4</td>\n",
       "      <td>89.0</td>\n",
       "      <td>10.10</td>\n",
       "      <td>8.5</td>\n",
       "      <td>6.0</td>\n",
       "      <td>2.30</td>\n",
       "      <td>0.0</td>\n",
       "    </tr>\n",
       "    <tr>\n",
       "      <th>4999</th>\n",
       "      <td>0</td>\n",
       "      <td>86.0</td>\n",
       "      <td>0.0</td>\n",
       "      <td>1.0</td>\n",
       "      <td>34.0</td>\n",
       "      <td>129.4</td>\n",
       "      <td>102.0</td>\n",
       "      <td>22.00</td>\n",
       "      <td>267.1000</td>\n",
       "      <td>104.0</td>\n",
       "      <td>22.70</td>\n",
       "      <td>154.8</td>\n",
       "      <td>100.0</td>\n",
       "      <td>6.97</td>\n",
       "      <td>9.3</td>\n",
       "      <td>10.5</td>\n",
       "      <td>2.51</td>\n",
       "      <td>0.0</td>\n",
       "    </tr>\n",
       "  </tbody>\n",
       "</table>\n",
       "<p>5000 rows × 18 columns</p>\n",
       "</div>"
      ],
      "text/plain": [
       "      churn  accountlength  internationalplan  voicemailplan  \\\n",
       "0         0          128.0                0.0            1.0   \n",
       "1         0          107.0                0.0            1.0   \n",
       "2         0          137.0                0.0            0.0   \n",
       "3         0           84.0                0.0            0.0   \n",
       "4         0           75.0                0.0            0.0   \n",
       "...     ...            ...                ...            ...   \n",
       "4995      0           50.0                0.0            1.0   \n",
       "4996      1          152.0                0.0            0.0   \n",
       "4997      0           61.0                0.0            0.0   \n",
       "4998      0          109.0                0.0            0.0   \n",
       "4999      0           86.0                0.0            1.0   \n",
       "\n",
       "      numbervmailmessages  totaldayminutes  totaldaycalls  totaldaycharge  \\\n",
       "0                    25.0            265.1          110.0           45.07   \n",
       "1                    26.0            161.6          123.0           27.47   \n",
       "2                     0.0            243.4          114.0           41.38   \n",
       "3                     0.0            299.4           71.0           50.90   \n",
       "4                     0.0            166.7          113.0           28.34   \n",
       "...                   ...              ...            ...             ...   \n",
       "4995                 40.0            235.7          127.0           40.07   \n",
       "4996                  0.0            184.2           90.0           31.31   \n",
       "4997                  0.0            140.6           89.0           23.90   \n",
       "4998                  0.0            188.8           67.0           32.10   \n",
       "4999                 34.0            129.4          102.0           22.00   \n",
       "\n",
       "      totaleveminutes  totalevecalls  totalevecharge  totalnightminutes  \\\n",
       "0            197.4000           99.0           16.78              244.7   \n",
       "1            195.5000          103.0           16.62              254.4   \n",
       "2            121.2000          110.0           10.30              162.6   \n",
       "3             64.7875           88.0            5.50              196.9   \n",
       "4            148.3000          122.0           12.61              186.9   \n",
       "...               ...            ...             ...                ...   \n",
       "4995         223.0000          126.0           18.96              297.5   \n",
       "4996         256.8000           73.0           21.83              213.6   \n",
       "4997         172.8000          128.0           14.69              212.4   \n",
       "4998         171.7000           92.0           14.59              224.4   \n",
       "4999         267.1000          104.0           22.70              154.8   \n",
       "\n",
       "      totalnightcalls  totalnightcharge  totalintlminutes  totalintlcalls  \\\n",
       "0                91.0             11.01              10.0             3.0   \n",
       "1               103.0             11.45              13.7             3.0   \n",
       "2               104.0              7.32              12.2             5.0   \n",
       "3                89.0              8.86               6.6             7.0   \n",
       "4               121.0              8.41              10.1             3.0   \n",
       "...               ...               ...               ...             ...   \n",
       "4995            116.0             13.39               9.9             5.0   \n",
       "4996            113.0              9.61              14.7             2.0   \n",
       "4997             97.0              9.56              13.6             4.0   \n",
       "4998             89.0             10.10               8.5             6.0   \n",
       "4999            100.0              6.97               9.3            10.5   \n",
       "\n",
       "      totalintlcharge  numbercustomerservicecalls  \n",
       "0                2.70                         1.0  \n",
       "1                3.70                         1.0  \n",
       "2                3.29                         0.0  \n",
       "3                1.78                         2.0  \n",
       "4                2.73                         3.0  \n",
       "...               ...                         ...  \n",
       "4995             2.67                         2.0  \n",
       "4996             3.97                         3.0  \n",
       "4997             3.67                         1.0  \n",
       "4998             2.30                         0.0  \n",
       "4999             2.51                         0.0  \n",
       "\n",
       "[5000 rows x 18 columns]"
      ]
     },
     "execution_count": 18,
     "metadata": {},
     "output_type": "execute_result"
    }
   ],
   "source": [
    "#capping\n",
    "for i in x.columns:\n",
    "    percentile_25=df[i].quantile(0.25)\n",
    "    percentile_75=df[i].quantile(0.75)\n",
    "    IQR= percentile_75- percentile_25\n",
    "    upper_limit=percentile_75+1.5*IQR\n",
    "    lower_limit=percentile_25-1.5*IQR\n",
    "    df[i]=np.where(df[i]>upper_limit,upper_limit,np.where(df[i]<lower_limit,lower_limit,df[i]))\n",
    "df"
   ]
  },
  {
   "cell_type": "markdown",
   "id": "bfece274",
   "metadata": {},
   "source": [
    "#### train test split"
   ]
  },
  {
   "cell_type": "code",
   "execution_count": 19,
   "id": "be654e89",
   "metadata": {},
   "outputs": [],
   "source": [
    "from sklearn.model_selection import train_test_split\n",
    "x_train,x_test,y_train,y_test=train_test_split(x,y,train_size=0.70,random_state=7,stratify=df[\"churn\"])"
   ]
  },
  {
   "cell_type": "code",
   "execution_count": 20,
   "id": "15eba1f7",
   "metadata": {},
   "outputs": [
    {
     "name": "stdout",
     "output_type": "stream",
     "text": [
      "Accuracy :\n",
      " 0.8666666666666667\n",
      "Classification report :\n",
      "               precision    recall  f1-score   support\n",
      "\n",
      "           0       0.88      0.98      0.93      1288\n",
      "           1       0.59      0.19      0.29       212\n",
      "\n",
      "    accuracy                           0.87      1500\n",
      "   macro avg       0.73      0.58      0.61      1500\n",
      "weighted avg       0.84      0.87      0.84      1500\n",
      "\n"
     ]
    }
   ],
   "source": [
    "import warnings\n",
    "warnings.filterwarnings(\"ignore\")\n",
    "from sklearn.linear_model import LogisticRegression\n",
    "from sklearn.metrics import accuracy_score,classification_report\n",
    "LG=LogisticRegression().fit(x_train,y_train)\n",
    "y_pred=LG.predict(x_test)\n",
    "print(\"Accuracy :\\n\",accuracy_score(y_test,y_pred))\n",
    "print(\"Classification report :\\n\",classification_report(y_test,y_pred))"
   ]
  },
  {
   "cell_type": "code",
   "execution_count": 21,
   "id": "55ae6173",
   "metadata": {},
   "outputs": [],
   "source": [
    "import pickle\n",
    "pickle.dump(LG,open(\"churn.pkl\",\"wb\"))"
   ]
  },
  {
   "cell_type": "markdown",
   "id": "fb72ca8c",
   "metadata": {},
   "source": [
    "#### scalling"
   ]
  },
  {
   "cell_type": "code",
   "execution_count": 22,
   "id": "15925676",
   "metadata": {},
   "outputs": [],
   "source": [
    "from sklearn.preprocessing import StandardScaler\n",
    "scalar=StandardScaler()\n",
    "x_train_scaled=scalar.fit_transform(x_train)\n",
    "x_test_scaled=scalar.transform(x_test)\n",
    "x_train_scaled=pd.DataFrame(x_train_scaled)\n",
    "x_test_scaled=pd.DataFrame(x_test_scaled)"
   ]
  },
  {
   "cell_type": "code",
   "execution_count": 23,
   "id": "47b88215",
   "metadata": {},
   "outputs": [
    {
     "name": "stdout",
     "output_type": "stream",
     "text": [
      "Accuracy :\n",
      " 0.8666666666666667\n",
      "Classification report :\n",
      "               precision    recall  f1-score   support\n",
      "\n",
      "           0       0.88      0.98      0.93      1288\n",
      "           1       0.58      0.20      0.30       212\n",
      "\n",
      "    accuracy                           0.87      1500\n",
      "   macro avg       0.73      0.59      0.61      1500\n",
      "weighted avg       0.84      0.87      0.84      1500\n",
      "\n"
     ]
    }
   ],
   "source": [
    "import warnings\n",
    "warnings.filterwarnings(\"ignore\")\n",
    "from sklearn.linear_model import LogisticRegression\n",
    "from sklearn.metrics import accuracy_score,classification_report\n",
    "LG1=LogisticRegression().fit(x_train_scaled,y_train)\n",
    "y_pred=LG1.predict(x_test_scaled)\n",
    "print(\"Accuracy :\\n\",accuracy_score(y_test,y_pred))\n",
    "print(\"Classification report :\\n\",classification_report(y_test,y_pred))"
   ]
  },
  {
   "cell_type": "markdown",
   "id": "2b41db32",
   "metadata": {},
   "source": [
    "##### here is no effect of scalling on accuracy ,so we are only creating pkl file of without scalling model"
   ]
  },
  {
   "cell_type": "code",
   "execution_count": 24,
   "id": "34cede81",
   "metadata": {},
   "outputs": [],
   "source": [
    "import pickle\n",
    "pickle.dump(LG1,open(\"churn1.pkl\",\"wb\"))"
   ]
  },
  {
   "cell_type": "code",
   "execution_count": 25,
   "id": "e852ac8d",
   "metadata": {},
   "outputs": [
    {
     "data": {
      "text/plain": [
       "array([0], dtype=int64)"
      ]
     },
     "execution_count": 25,
     "metadata": {},
     "output_type": "execute_result"
    }
   ],
   "source": [
    "LG.predict(np.array([[128.0,0.0,1.0,25.0,265.1,110.0,45.07,197.4000,99.0,16.78,244.7,91.0,11.01,10.0,3.0,2.70,1.0]]))"
   ]
  },
  {
   "cell_type": "code",
   "execution_count": 26,
   "id": "a58991e2",
   "metadata": {},
   "outputs": [
    {
     "data": {
      "text/plain": [
       "array([1], dtype=int64)"
      ]
     },
     "execution_count": 26,
     "metadata": {},
     "output_type": "execute_result"
    }
   ],
   "source": [
    "LG1.predict(np.array([[128.0,0.0,1.0,25.0,265.1,110.0,45.07,197.4000,99.0,16.78,244.7,91.0,11.01,10.0,3.0,2.70,1.0]]))"
   ]
  }
 ],
 "metadata": {
  "kernelspec": {
   "display_name": "Python 3 (ipykernel)",
   "language": "python",
   "name": "python3"
  },
  "language_info": {
   "codemirror_mode": {
    "name": "ipython",
    "version": 3
   },
   "file_extension": ".py",
   "mimetype": "text/x-python",
   "name": "python",
   "nbconvert_exporter": "python",
   "pygments_lexer": "ipython3",
   "version": "3.9.12"
  }
 },
 "nbformat": 4,
 "nbformat_minor": 5
}
